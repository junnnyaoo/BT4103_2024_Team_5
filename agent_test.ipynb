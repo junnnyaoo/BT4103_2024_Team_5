{
 "cells": [
  {
   "cell_type": "markdown",
   "metadata": {},
   "source": [
    "Agent Example"
   ]
  },
  {
   "cell_type": "code",
   "execution_count": 182,
   "metadata": {},
   "outputs": [],
   "source": [
    "from pymongo import MongoClient\n",
    "import os\n",
    "from langchain_openai import OpenAIEmbeddings\n",
    "from langchain.chat_models import ChatOpenAI\n",
    "from langchain.chains.conversation.memory import ConversationBufferWindowMemory\n",
    "from langchain.chains import RetrievalQA\n",
    "from langchain_community.vectorstores import MongoDBAtlasVectorSearch\n",
    "from langchain.prompts import PromptTemplate\n"
   ]
  },
  {
   "cell_type": "markdown",
   "metadata": {},
   "source": [
    "Remember to create vector index in mongodb and when uploading articles using newsMongo.py, make sure vector embedding is called \"embedding\":\n",
    "\n",
    "vector index :{\n",
    "  \"fields\": [\n",
    "    {\n",
    "      \"numDimensions\": 1536,\n",
    "      \"path\": \"embedding\",\n",
    "      \"similarity\": \"cosine\",\n",
    "      \"type\": \"vector\"\n",
    "    }\n",
    "  ]\n",
    "}\n"
   ]
  },
  {
   "cell_type": "markdown",
   "metadata": {},
   "source": [
    "Scenario 1 for when user asking any news related question, it will vector db search and return the content for llm to digest and answer"
   ]
  },
  {
   "cell_type": "code",
   "execution_count": 183,
   "metadata": {},
   "outputs": [],
   "source": [
    "DB_NAME = \"news_articles\"\n",
    "COLLECTION_NAME = \"newsArticleCollection\"\n",
    "ATLAS_VECTOR_SEARCH_INDEX_NAME = \"vector_index\"\n",
    "OPENAI_API_KEY = os.getenv(\"OPENAI_API_KEY\")\n",
    "\n",
    "prompt_template = \"\"\" \n",
    "    Answer user's questions with the information you know.\n",
    "\n",
    "    {context}\n",
    "\n",
    "    Question: {question}\"\"\"\n",
    "\n",
    "\n",
    "PROMPT = PromptTemplate(\n",
    "    template=prompt_template, input_variables=[\"context\", \"question\"]\n",
    ")\n",
    "\n",
    "# chat completion llm\n",
    "llm = ChatOpenAI(\n",
    "    openai_api_key=OPENAI_API_KEY,\n",
    "    model_name='gpt-3.5-turbo-0125',\n",
    "    temperature=0.0\n",
    ")\n",
    "\n",
    "vector_search = MongoDBAtlasVectorSearch.from_connection_string(\n",
    "    os.getenv(\"MONGODB_URI\"),\n",
    "    DB_NAME + \".\" + COLLECTION_NAME,\n",
    "    OpenAIEmbeddings(model=\"text-embedding-3-large\", dimensions=1536),\n",
    "    index_name=ATLAS_VECTOR_SEARCH_INDEX_NAME,\n",
    "    text_key = \"content\"\n",
    ")\n",
    "\n",
    "qa_retriever = vector_search.as_retriever(\n",
    "    search_type=\"similarity\",\n",
    "    search_kwargs={\"k\": 5},\n",
    ")\n",
    "\n",
    "# retrieval qa chain\n",
    "qa = RetrievalQA.from_chain_type(\n",
    "    llm=llm,\n",
    "    chain_type=\"stuff\",\n",
    "    retriever= qa_retriever,\n",
    "    # return_source_documents=True,\n",
    "    chain_type_kwargs={\"prompt\": PROMPT},\n",
    "    verbose=True\n",
    ")"
   ]
  },
  {
   "cell_type": "markdown",
   "metadata": {},
   "source": [
    "Scenario 2 for when user ask agent to recommend some news, itll return the title and link result for now. max article 5 since vector_search returns top 5"
   ]
  },
  {
   "cell_type": "code",
   "execution_count": 184,
   "metadata": {},
   "outputs": [],
   "source": [
    "\n",
    "# Initialize MongoDB\n",
    "mongo_client = MongoClient(os.getenv(\"MONGODB_URI\"))\n",
    "db = mongo_client.get_database(\"news_articles\")\n",
    "collection = db.get_collection(\"newsArticleCollection\")\n",
    "\n",
    "query_embeddings = OpenAIEmbeddings(model=\"text-embedding-3-small\", dimensions=1536) # model used to embed user queries\n",
    "\n",
    "def vector_search(query, collection):\n",
    "    query_embedding = query_embeddings.embed_query(query)\n",
    "    pipeline = [\n",
    "        {\n",
    "            \"$vectorSearch\": { # $vectorSearch is the specific function name\n",
    "                \"index\": \"vector_index\", # The search index I created on MongoDB\n",
    "                \"queryVector\": query_embedding, # The embedded query from the user that is used for searching\n",
    "                \"path\": \"embedding\", # The relevant field of the document that is used for searching (in this case the full text of the news article)\n",
    "                \"limit\": 5, # How many results you want the vectorSearch to show\n",
    "                \"numCandidates\": 100 # How many documents you want vectorSearch to consider when searching\n",
    "            }\n",
    "        }\n",
    "    ]\n",
    "    \n",
    "    results = collection.aggregate(pipeline) # executing the search\n",
    "    return list(results) # compile results into a list\n",
    "\n",
    "def recommend(query):\n",
    "    get_knowledge = vector_search(query, collection) # Get the output from MongoDB after vector searching\n",
    "\n",
    "    search_result = ''\n",
    "    for result in get_knowledge:\n",
    "        search_result += f\"Title: {result.get('title', 'N/A')}, Link: {result.get('url', 'N/A')}, \\n\"\n",
    "    return search_result"
   ]
  },
  {
   "cell_type": "markdown",
   "metadata": {},
   "source": [
    "Scenario 3 Right now if there is date that matches dd Month yyyy or dd/mm/yyy or dd/mm/yy format itll work"
   ]
  },
  {
   "cell_type": "code",
   "execution_count": 185,
   "metadata": {},
   "outputs": [],
   "source": [
    "import re\n",
    "from datetime import datetime\n",
    "def extract_dates(text):\n",
    "    # Define regex patterns for different date formats\n",
    "    patterns = [r'(\\d{1,2}\\s\\w+\\s\\d{4})',  # dd Month yyyy\n",
    "                r'(\\d{2}/\\d{2}/\\d{4})',    # dd/mm/yyyy\n",
    "                r'(\\d{2}/\\d{2}/\\d{2})']    # dd/mm/yy\n",
    "    \n",
    "    # Define corresponding date parsing formats\n",
    "    parsing_formats = [\"%d %B %Y\", \"%d/%m/%Y\", \"%d/%m/%y\"]\n",
    "    \n",
    "    formatted_dates = []\n",
    "\n",
    "    # Split the dates input if there is 2 dates, agent will give us something like 13/03/2024, 14/03/2024 so we split by \" \" to get both dates\n",
    "    dates = text.split(\" \")\n",
    "    for date_text in dates:\n",
    "        matched = False\n",
    "        # Try to match each pattern and parse dates\n",
    "        for pattern, parsing_format in zip(patterns, parsing_formats):\n",
    "            pattern_matched = re.findall(pattern, date_text.strip())\n",
    "            if pattern_matched and not matched: # If a match is found and not already matched\n",
    "                matched = True\n",
    "                for match in pattern_matched:\n",
    "                    date_obj = datetime.strptime(match, parsing_format)\n",
    "                    formatted_dates.append(date_obj.strftime(\"%Y-%m-%dT%H:%M:%S\"))\n",
    "    \n",
    "    #if only one date appears, means user want articles on that day so i need 2 inputs from e.g. 13/03/24 to 13/03/24\n",
    "    if len(formatted_dates) == 1:\n",
    "        formatted_dates = [formatted_dates[0],formatted_dates[0]]\n",
    "    return formatted_dates\n",
    "\n",
    "import readDb_Functions\n",
    "def get_date_specific_articles(query):\n",
    "    \n",
    "    mongo_client = MongoClient(os.getenv(\"MONGODB_URI\"))\n",
    "    db = mongo_client.get_database(\"news_articles\")\n",
    "    collection = db.get_collection(\"newsArticleCollection\")\n",
    "    print(extract_dates(query))\n",
    "    return extract_dates(query)\n",
    "    #i removed the readDb function to save token, if there is date extracted, highly likely its good to go\n",
    "    # return readDb_Functions.getNews(collection, ['All'], extract_dates(query))"
   ]
  },
  {
   "cell_type": "markdown",
   "metadata": {},
   "source": [
    "Different Scenarios for QA handling "
   ]
  },
  {
   "cell_type": "code",
   "execution_count": 186,
   "metadata": {},
   "outputs": [],
   "source": [
    "from langchain.agents import Tool\n",
    "\n",
    "tools = [\n",
    "    #scenario #2\n",
    "    #This works e.g. \"Give me news on date 13/03/24 to 15/03/24\"\n",
    "    Tool(\n",
    "        name='Date period',\n",
    "        func=get_date_specific_articles,\n",
    "        description=(\n",
    "            \n",
    "            \"\"\"\n",
    "            use this tool when user mentioned a date. \n",
    "            only if user give date such as dd Month yyyy or dd/mm/yyy. \n",
    "            for example could be 30 May 2000 or 24/12/19.\n",
    "            \"\"\"\n",
    "        )\n",
    "    ),\n",
    "    #scenario #1\n",
    "    #This works e.g. \"What is Saudi Arabia doing\"\n",
    "    Tool(\n",
    "        name='Ask',\n",
    "        func=qa.run,\n",
    "        description=(\n",
    "            \"\"\"\n",
    "            Use this tool when user ask questions\n",
    "            do not use this tool if user mentioned date or words like \"recommend\" or \"suggest\", do not summarize observation.\n",
    "            \"\"\"\n",
    "        )\n",
    "    ),\n",
    "    \n",
    "    #scenario #3\n",
    "    #This works e.g. \"Recommend me 3 Apple news\"\n",
    "    Tool(\n",
    "        name='Recommend',\n",
    "        func=recommend,\n",
    "        description=(\n",
    "            \"\"\"\n",
    "            The input or user query must contain the word \"recommend\". If \"recommend\" does not\n",
    "            exist in the query or input, then use \"Ask\" Tool\n",
    "            \"\"\"\n",
    "        )\n",
    "    )\n",
    "]"
   ]
  },
  {
   "cell_type": "code",
   "execution_count": 187,
   "metadata": {},
   "outputs": [],
   "source": [
    "from langchain.agents import initialize_agent\n",
    "\n",
    "# template = \"\"\"You are a bot that will either provide news recommendations or answer questions related to the news asked by users.\n",
    "#     You are speaking to a professional so keep the answer informative and concise. \n",
    "    \n",
    "# {chat_history}\n",
    "# Human: {human_input}\n",
    "# Chatbot: Always start output with \"Here is my answer\":\"\"\"\n",
    "# prompt = PromptTemplate(input_variables=[\"chat_history\", \"human_input\"],template=template)\n",
    "# chat completion llm\n",
    "llm2 = ChatOpenAI(\n",
    "    openai_api_key=OPENAI_API_KEY,\n",
    "    model_name='gpt-3.5-turbo-1106',\n",
    "    temperature=0.0\n",
    ")\n",
    "\n",
    "# conversational memory\n",
    "conversational_memory = ConversationBufferWindowMemory(\n",
    "    memory_key='chat_history',\n",
    "    k=5,\n",
    "    return_messages=True\n",
    ")\n",
    "\n",
    "agent = initialize_agent(\n",
    "    # agent='chat-conversational-react-description',\n",
    "    agent = 'conversational-react-description',\n",
    "    tools=tools,\n",
    "    llm=llm2,\n",
    "    verbose=True,\n",
    "    max_iterations=3,\n",
    "    early_stopping_method='generate', \n",
    "    memory=conversational_memory,\n",
    "    # prompt = prompt\n",
    ")"
   ]
  },
  {
   "cell_type": "code",
   "execution_count": 188,
   "metadata": {},
   "outputs": [],
   "source": [
    "agent.agent.llm_chain.prompt.template = agent.agent.llm_chain.prompt.template + \"\"\"\n",
    "do not use tools if user ask about previous message or elaborate more on previous message or repeat previous message otherwise use \"Ask\" tool if user ask questions\n",
    "\"\"\""
   ]
  },
  {
   "cell_type": "code",
   "execution_count": 189,
   "metadata": {},
   "outputs": [
    {
     "name": "stdout",
     "output_type": "stream",
     "text": [
      "Assistant is a large language model trained by OpenAI.\n",
      "\n",
      "Assistant is designed to be able to assist with a wide range of tasks, from answering simple questions to providing in-depth explanations and discussions on a wide range of topics. As a language model, Assistant is able to generate human-like text based on the input it receives, allowing it to engage in natural-sounding conversations and provide responses that are coherent and relevant to the topic at hand.\n",
      "\n",
      "Assistant is constantly learning and improving, and its capabilities are constantly evolving. It is able to process and understand large amounts of text, and can use this knowledge to provide accurate and informative responses to a wide range of questions. Additionally, Assistant is able to generate its own text based on the input it receives, allowing it to engage in discussions and provide explanations and descriptions on a wide range of topics.\n",
      "\n",
      "Overall, Assistant is a powerful tool that can help with a wide range of tasks and provide valuable insights and information on a wide range of topics. Whether you need help with a specific question or just want to have a conversation about a particular topic, Assistant is here to assist.\n",
      "\n",
      "TOOLS:\n",
      "------\n",
      "\n",
      "Assistant has access to the following tools:\n",
      "\n",
      "> Date period: \n",
      "            use this tool when user mentioned a date. \n",
      "            only if user give date such as dd Month yyyy or dd/mm/yyy. \n",
      "            for example could be 30 May 2000 or 24/12/19.\n",
      "            \n",
      "> Ask: \n",
      "            Use this tool when user ask questions\n",
      "            do not use this tool if user mentioned date or words like \"recommend\" or \"suggest\", do not summarize observation.\n",
      "            \n",
      "> Recommend: \n",
      "            The input or user query must contain the word \"recommend\". If \"recommend\" does not\n",
      "            exist in the query or input, then use \"Ask\" Tool\n",
      "            \n",
      "\n",
      "To use a tool, please use the following format:\n",
      "\n",
      "```\n",
      "Thought: Do I need to use a tool? Yes\n",
      "Action: the action to take, should be one of [Date period, Ask, Recommend]\n",
      "Action Input: the input to the action\n",
      "Observation: the result of the action\n",
      "```\n",
      "\n",
      "When you have a response to say to the Human, or if you do not need to use a tool, you MUST use the format:\n",
      "\n",
      "```\n",
      "Thought: Do I need to use a tool? No\n",
      "AI: [your response here]\n",
      "```\n",
      "\n",
      "Begin!\n",
      "\n",
      "Previous conversation history:\n",
      "{chat_history}\n",
      "\n",
      "New input: {input}\n",
      "{agent_scratchpad}\n",
      "do not use tools if user ask about previous message or elaborate more on previous message or repeat previous message otherwise use \"Ask\" tool if user ask questions\n",
      "\n"
     ]
    }
   ],
   "source": [
    "print(agent.agent.llm_chain.prompt.template)"
   ]
  },
  {
   "cell_type": "code",
   "execution_count": 190,
   "metadata": {},
   "outputs": [
    {
     "name": "stdout",
     "output_type": "stream",
     "text": [
      "\n",
      "\n",
      "\u001b[1m> Entering new AgentExecutor chain...\u001b[0m\n",
      "\u001b[32;1m\u001b[1;3mThought: Do I need to use a tool? Yes\n",
      "Action: Ask\n",
      "Action Input: What is UK government doing\u001b[0m\n",
      "\n",
      "\u001b[1m> Entering new RetrievalQA chain...\u001b[0m\n",
      "\n",
      "\u001b[1m> Finished chain.\u001b[0m\n",
      "\n",
      "Observation: \u001b[33;1m\u001b[1;3mThe UK government is investing heavily in quantum technology and space industries to support startups and drive innovation. They have provided significant funding for quantum technology startups and space companies, with the aim of boosting growth, creating jobs, and fostering technological advancements. Additionally, the UK government has launched programs like Made Smarter Adoption to support manufacturing SMEs in adopting digital technologies and improving productivity. The government's focus on supporting technology development within the UK is part of a long-term plan to make the country a world leader in these emerging technologies.\u001b[0m\n",
      "Thought:\u001b[32;1m\u001b[1;3mAI: The UK government is investing in quantum technology and space industries to support startups and drive innovation. They are providing significant funding for quantum technology startups and space companies, with the aim of boosting growth, creating jobs, and fostering technological advancements. Additionally, they have launched programs like Made Smarter Adoption to support manufacturing SMEs in adopting digital technologies and improving productivity. The government's focus on supporting technology development within the UK is part of a long-term plan to make the country a world leader in these emerging technologies.\u001b[0m\n",
      "\n",
      "\u001b[1m> Finished chain.\u001b[0m\n"
     ]
    },
    {
     "data": {
      "text/plain": [
       "{'input': 'What is UK government doing',\n",
       " 'chat_history': [],\n",
       " 'output': \"The UK government is investing in quantum technology and space industries to support startups and drive innovation. They are providing significant funding for quantum technology startups and space companies, with the aim of boosting growth, creating jobs, and fostering technological advancements. Additionally, they have launched programs like Made Smarter Adoption to support manufacturing SMEs in adopting digital technologies and improving productivity. The government's focus on supporting technology development within the UK is part of a long-term plan to make the country a world leader in these emerging technologies.\"}"
      ]
     },
     "execution_count": 190,
     "metadata": {},
     "output_type": "execute_result"
    }
   ],
   "source": [
    "agent(\"What is UK government doing\")"
   ]
  },
  {
   "cell_type": "code",
   "execution_count": 191,
   "metadata": {},
   "outputs": [
    {
     "name": "stdout",
     "output_type": "stream",
     "text": [
      "\n",
      "\n",
      "\u001b[1m> Entering new AgentExecutor chain...\u001b[0m\n",
      "\u001b[32;1m\u001b[1;3mThought: Do I need to use a tool? Yes\n",
      "Action: Date period\n",
      "Action Input: 13/03/24 to 15/03/24\u001b[0m['2024-03-13T00:00:00', '2024-03-15T00:00:00']\n",
      "\n",
      "Observation: \u001b[36;1m\u001b[1;3m['2024-03-13T00:00:00', '2024-03-15T00:00:00']\u001b[0m\n",
      "Thought:\u001b[32;1m\u001b[1;3mThought: Do I need to use a tool? No\n",
      "AI: I'm sorry, but I don't have access to real-time news updates. Is there anything else I can assist you with?\u001b[0m\n",
      "\n",
      "\u001b[1m> Finished chain.\u001b[0m\n"
     ]
    },
    {
     "data": {
      "text/plain": [
       "{'input': 'Give me news on date 13/03/24 to 15/03/24',\n",
       " 'chat_history': [HumanMessage(content='What is UK government doing'),\n",
       "  AIMessage(content=\"The UK government is investing in quantum technology and space industries to support startups and drive innovation. They are providing significant funding for quantum technology startups and space companies, with the aim of boosting growth, creating jobs, and fostering technological advancements. Additionally, they have launched programs like Made Smarter Adoption to support manufacturing SMEs in adopting digital technologies and improving productivity. The government's focus on supporting technology development within the UK is part of a long-term plan to make the country a world leader in these emerging technologies.\")],\n",
       " 'output': \"I'm sorry, but I don't have access to real-time news updates. Is there anything else I can assist you with?\"}"
      ]
     },
     "execution_count": 191,
     "metadata": {},
     "output_type": "execute_result"
    }
   ],
   "source": [
    "agent(\"Give me news on date 13/03/24 to 15/03/24\") #not done"
   ]
  },
  {
   "cell_type": "code",
   "execution_count": 198,
   "metadata": {},
   "outputs": [
    {
     "name": "stdout",
     "output_type": "stream",
     "text": [
      "\n",
      "\n",
      "\u001b[1m> Entering new AgentExecutor chain...\u001b[0m\n",
      "\u001b[32;1m\u001b[1;3mThought: Do I need to use a tool? Yes\n",
      "Action: Recommend\n",
      "Action Input: 3 news related to artificial intelligence\u001b[0m\n",
      "Observation: \u001b[38;5;200m\u001b[1;3mTitle: This startup taps quantum, AI to fast-track discovery of new materials, Link: https://thenextweb.com/news/this-startup-taps-quantum-ai-to-fast-track-discovery-of-new-materials, \n",
      "Title: Workplace AI negatively impacts quality of life, study finds, Link: https://readwrite.com/workplace-ai-negatively-impacts-quality-of-life-study-finds/, \n",
      "Title: The UK is improving productivity through new technologies and industrial digital transformation, Link: https://www.businessinsider.com/sc/how-the-uk-is-helping-the-manufacturing-sector-improve-productivity, \n",
      "Title: New AI and 5G advancements will usher in the era of edge computing on smartphones, autonomous cars, and more, Link: https://www.businessinsider.com/ai-edge-computing-5g-cloud-artificial-intelligence-2024-3, \n",
      "Title: Future-first thinking, Link: https://www.businessinsider.com/sc/how-investment-is-unlocking-innovation-in-the-quantum-and-space-sectors, \n",
      "\u001b[0m\n",
      "Thought:\u001b[32;1m\u001b[1;3mAI: The three news articles related to artificial intelligence are:\n",
      "\n",
      "1. Title: This startup taps quantum, AI to fast-track discovery of new materials, Link: [This startup taps quantum, AI to fast-track discovery of new materials](https://thenextweb.com/news/this-startup-taps-quantum-ai-to-fast-track-discovery-of-new-materials)\n",
      "2. Title: Workplace AI negatively impacts quality of life, study finds, Link: [Workplace AI negatively impacts quality of life, study finds](https://readwrite.com/workplace-ai-negatively-impacts-quality-of-life-study-finds/)\n",
      "3. Title: New AI and 5G advancements will usher in the era of edge computing on smartphones, autonomous cars, and more, Link: [New AI and 5G advancements will usher in the era of edge computing on smartphones, autonomous cars, and more](https://www.businessinsider.com/ai-edge-computing-5g-cloud-artificial-intelligence-2024-3)\u001b[0m\n",
      "\n",
      "\u001b[1m> Finished chain.\u001b[0m\n"
     ]
    },
    {
     "data": {
      "text/plain": [
       "{'input': 'Recommend me 3 news related to artificial intelligence',\n",
       " 'chat_history': [HumanMessage(content='Can you repeat the second news article'),\n",
       "  AIMessage(content=\"The UK government is investing in quantum technology and space industries to support startups and drive innovation. They are providing significant funding for quantum technology startups and space companies, with the aim of boosting growth, creating jobs, and fostering technological advancements. Additionally, they have launched programs like Made Smarter Adoption to support manufacturing SMEs in adopting digital technologies and improving productivity. The government's focus on supporting technology development within the UK is part of a long-term plan to make the country a world leader in these emerging technologies. If you have any other questions or need further information, feel free to ask!\"),\n",
       "  HumanMessage(content='Can you tell me more about the first news article'),\n",
       "  AIMessage(content=\"The first news article discusses a German startup called Quantistry that is using a mix of quantum tech, physics-based simulations, and machine learning to fast-track the discovery of sustainable materials for green technologies. The company has recently secured €3 million in funding, including backing from Chemovator, the business incubator of BASF. Quantistry's cloud-based platform allows users to determine material and molecular properties in simulation, speeding up the R&D process and making it more accessible to companies. The funding will be used to further develop the simulation platform and secure new customers.\"),\n",
       "  HumanMessage(content='News about National Cyber Director'),\n",
       "  AIMessage(content='The National Cyber Director has urged the largest players in emerging technologies to adopt safer programming languages to reduce memory safety vulnerabilities. This advice was released as part of a new report titled “Back to the Building Blocks: A Path Toward Secure and Measurable Software.” The ONCD advises the President of the United States on cybersecurity policy and strategy. The Biden-Harris Administration has received recognition for reaffirming vulnerabilities that must be considered in lockstep with technological advancements. The ONCD has received support from industry leaders, academia, and the private sector for this initiative.'),\n",
       "  HumanMessage(content='Can you repeat the fourth news article in the previous message'),\n",
       "  AIMessage(content='The fourth news article in the previous message discussed the National Cyber Director urging the largest players in emerging technologies to adopt safer programming languages to reduce memory safety vulnerabilities. This advice was released as part of a new report titled “Back to the Building Blocks: A Path Toward Secure and Measurable Software.” The ONCD advises the President of the United States on cybersecurity policy and strategy. The Biden-Harris Administration has received recognition for reaffirming vulnerabilities that must be considered in lockstep with technological advancements. The ONCD has received support from industry leaders, academia, and the private sector for this initiative.'),\n",
       "  HumanMessage(content='Can you elaborate the fourth news article in the previous message'),\n",
       "  AIMessage(content='The fourth news article in the previous message discussed the National Cyber Director urging the largest players in emerging technologies to adopt safer programming languages to reduce memory safety vulnerabilities. This advice was released as part of a new report titled “Back to the Building Blocks: A Path Toward Secure and Measurable Software.” The ONCD advises the President of the United States on cybersecurity policy and strategy. The Biden-Harris Administration has received recognition for reaffirming vulnerabilities that must be considered in lockstep with technological advancements. The ONCD has received support from industry leaders, academia, and the private sector for this initiative.')],\n",
       " 'output': 'The three news articles related to artificial intelligence are:\\n\\n1. Title: This startup taps quantum, AI to fast-track discovery of new materials, Link: [This startup taps quantum, AI to fast-track discovery of new materials](https://thenextweb.com/news/this-startup-taps-quantum-ai-to-fast-track-discovery-of-new-materials)\\n2. Title: Workplace AI negatively impacts quality of life, study finds, Link: [Workplace AI negatively impacts quality of life, study finds](https://readwrite.com/workplace-ai-negatively-impacts-quality-of-life-study-finds/)\\n3. Title: New AI and 5G advancements will usher in the era of edge computing on smartphones, autonomous cars, and more, Link: [New AI and 5G advancements will usher in the era of edge computing on smartphones, autonomous cars, and more](https://www.businessinsider.com/ai-edge-computing-5g-cloud-artificial-intelligence-2024-3)'}"
      ]
     },
     "execution_count": 198,
     "metadata": {},
     "output_type": "execute_result"
    }
   ],
   "source": [
    "agent(\"Recommend me 3 news related to artificial intelligence\")"
   ]
  },
  {
   "cell_type": "code",
   "execution_count": 193,
   "metadata": {},
   "outputs": [
    {
     "name": "stdout",
     "output_type": "stream",
     "text": [
      "\n",
      "\n",
      "\u001b[1m> Entering new AgentExecutor chain...\u001b[0m\n",
      "\u001b[32;1m\u001b[1;3mThought: Do I need to use a tool? No\n",
      "AI: The UK government is investing in quantum technology and space industries to support startups and drive innovation. They are providing significant funding for quantum technology startups and space companies, with the aim of boosting growth, creating jobs, and fostering technological advancements. Additionally, they have launched programs like Made Smarter Adoption to support manufacturing SMEs in adopting digital technologies and improving productivity. The government's focus on supporting technology development within the UK is part of a long-term plan to make the country a world leader in these emerging technologies. If you have any other questions or need further information, feel free to ask!\u001b[0m\n",
      "\n",
      "\u001b[1m> Finished chain.\u001b[0m\n"
     ]
    },
    {
     "data": {
      "text/plain": [
       "{'input': 'Can you repeat the second news article',\n",
       " 'chat_history': [HumanMessage(content='What is UK government doing'),\n",
       "  AIMessage(content=\"The UK government is investing in quantum technology and space industries to support startups and drive innovation. They are providing significant funding for quantum technology startups and space companies, with the aim of boosting growth, creating jobs, and fostering technological advancements. Additionally, they have launched programs like Made Smarter Adoption to support manufacturing SMEs in adopting digital technologies and improving productivity. The government's focus on supporting technology development within the UK is part of a long-term plan to make the country a world leader in these emerging technologies.\"),\n",
       "  HumanMessage(content='Give me news on date 13/03/24 to 15/03/24'),\n",
       "  AIMessage(content=\"I'm sorry, but I don't have access to real-time news updates. Is there anything else I can assist you with?\"),\n",
       "  HumanMessage(content='Recommend me news related to artificial intelligence'),\n",
       "  AIMessage(content=\"The UK government is investing in quantum technology and space industries to support startups and drive innovation. They are providing significant funding for quantum technology startups and space companies, with the aim of boosting growth, creating jobs, and fostering technological advancements. Additionally, they have launched programs like Made Smarter Adoption to support manufacturing SMEs in adopting digital technologies and improving productivity. The government's focus on supporting technology development within the UK is part of a long-term plan to make the country a world leader in these emerging technologies. If you have any other questions or need further information, feel free to ask!\")],\n",
       " 'output': \"The UK government is investing in quantum technology and space industries to support startups and drive innovation. They are providing significant funding for quantum technology startups and space companies, with the aim of boosting growth, creating jobs, and fostering technological advancements. Additionally, they have launched programs like Made Smarter Adoption to support manufacturing SMEs in adopting digital technologies and improving productivity. The government's focus on supporting technology development within the UK is part of a long-term plan to make the country a world leader in these emerging technologies. If you have any other questions or need further information, feel free to ask!\"}"
      ]
     },
     "execution_count": 193,
     "metadata": {},
     "output_type": "execute_result"
    }
   ],
   "source": [
    "agent('Can you repeat the second news article')"
   ]
  },
  {
   "cell_type": "code",
   "execution_count": 194,
   "metadata": {},
   "outputs": [
    {
     "name": "stdout",
     "output_type": "stream",
     "text": [
      "\n",
      "\n",
      "\u001b[1m> Entering new AgentExecutor chain...\u001b[0m\n",
      "\u001b[32;1m\u001b[1;3mThought: Do I need to use a tool? Yes\n",
      "Action: Ask\n",
      "Action Input: Can you tell me more about the first news article\u001b[0m\n",
      "\n",
      "\u001b[1m> Entering new RetrievalQA chain...\u001b[0m\n",
      "\n",
      "\u001b[1m> Finished chain.\u001b[0m\n",
      "\n",
      "Observation: \u001b[33;1m\u001b[1;3mThe first news article discusses a German startup called Quantistry that is using a mix of quantum tech, physics-based simulations, and machine learning to fast-track the discovery of sustainable materials for green technologies. The company has recently secured €3 million in funding, including backing from Chemovator, the business incubator of BASF. Quantistry's cloud-based platform allows users to determine material and molecular properties in simulation, speeding up the R&D process and making it more accessible to companies. The funding will be used to further develop the simulation platform and secure new customers.\u001b[0m\n",
      "Thought:\u001b[32;1m\u001b[1;3mThought: Do I need to use a tool? No\n",
      "AI: The first news article discusses a German startup called Quantistry that is using a mix of quantum tech, physics-based simulations, and machine learning to fast-track the discovery of sustainable materials for green technologies. The company has recently secured €3 million in funding, including backing from Chemovator, the business incubator of BASF. Quantistry's cloud-based platform allows users to determine material and molecular properties in simulation, speeding up the R&D process and making it more accessible to companies. The funding will be used to further develop the simulation platform and secure new customers.\u001b[0m\n",
      "\n",
      "\u001b[1m> Finished chain.\u001b[0m\n"
     ]
    },
    {
     "data": {
      "text/plain": [
       "{'input': 'Can you tell me more about the first news article',\n",
       " 'chat_history': [HumanMessage(content='What is UK government doing'),\n",
       "  AIMessage(content=\"The UK government is investing in quantum technology and space industries to support startups and drive innovation. They are providing significant funding for quantum technology startups and space companies, with the aim of boosting growth, creating jobs, and fostering technological advancements. Additionally, they have launched programs like Made Smarter Adoption to support manufacturing SMEs in adopting digital technologies and improving productivity. The government's focus on supporting technology development within the UK is part of a long-term plan to make the country a world leader in these emerging technologies.\"),\n",
       "  HumanMessage(content='Give me news on date 13/03/24 to 15/03/24'),\n",
       "  AIMessage(content=\"I'm sorry, but I don't have access to real-time news updates. Is there anything else I can assist you with?\"),\n",
       "  HumanMessage(content='Recommend me news related to artificial intelligence'),\n",
       "  AIMessage(content=\"The UK government is investing in quantum technology and space industries to support startups and drive innovation. They are providing significant funding for quantum technology startups and space companies, with the aim of boosting growth, creating jobs, and fostering technological advancements. Additionally, they have launched programs like Made Smarter Adoption to support manufacturing SMEs in adopting digital technologies and improving productivity. The government's focus on supporting technology development within the UK is part of a long-term plan to make the country a world leader in these emerging technologies. If you have any other questions or need further information, feel free to ask!\"),\n",
       "  HumanMessage(content='Can you repeat the second news article'),\n",
       "  AIMessage(content=\"The UK government is investing in quantum technology and space industries to support startups and drive innovation. They are providing significant funding for quantum technology startups and space companies, with the aim of boosting growth, creating jobs, and fostering technological advancements. Additionally, they have launched programs like Made Smarter Adoption to support manufacturing SMEs in adopting digital technologies and improving productivity. The government's focus on supporting technology development within the UK is part of a long-term plan to make the country a world leader in these emerging technologies. If you have any other questions or need further information, feel free to ask!\")],\n",
       " 'output': \"The first news article discusses a German startup called Quantistry that is using a mix of quantum tech, physics-based simulations, and machine learning to fast-track the discovery of sustainable materials for green technologies. The company has recently secured €3 million in funding, including backing from Chemovator, the business incubator of BASF. Quantistry's cloud-based platform allows users to determine material and molecular properties in simulation, speeding up the R&D process and making it more accessible to companies. The funding will be used to further develop the simulation platform and secure new customers.\"}"
      ]
     },
     "execution_count": 194,
     "metadata": {},
     "output_type": "execute_result"
    }
   ],
   "source": [
    "agent('Can you tell me more about the first news article')"
   ]
  },
  {
   "cell_type": "code",
   "execution_count": 195,
   "metadata": {},
   "outputs": [
    {
     "name": "stdout",
     "output_type": "stream",
     "text": [
      "\n",
      "\n",
      "\u001b[1m> Entering new AgentExecutor chain...\u001b[0m\n",
      "\u001b[32;1m\u001b[1;3mThought: Do I need to use a tool? Yes\n",
      "Action: Ask\n",
      "Action Input: News about National Cyber Director\u001b[0m\n",
      "\n",
      "\u001b[1m> Entering new RetrievalQA chain...\u001b[0m\n",
      "\n",
      "\u001b[1m> Finished chain.\u001b[0m\n",
      "\n",
      "Observation: \u001b[33;1m\u001b[1;3mThe National Cyber Director has urged the largest players in emerging technologies to adopt safer programming languages to reduce memory safety vulnerabilities. This advice was released as part of a new report titled “Back to the Building Blocks: A Path Toward Secure and Measurable Software.” The ONCD advises the President of the United States on cybersecurity policy and strategy. The Biden-Harris Administration has received recognition for reaffirming vulnerabilities that must be considered in lockstep with technological advancements. The ONCD has received support from industry leaders, academia, and the private sector for this initiative.\u001b[0m\n",
      "Thought:\u001b[32;1m\u001b[1;3mThought: Do I need to use a tool? No\n",
      "AI: The National Cyber Director has urged the largest players in emerging technologies to adopt safer programming languages to reduce memory safety vulnerabilities. This advice was released as part of a new report titled “Back to the Building Blocks: A Path Toward Secure and Measurable Software.” The ONCD advises the President of the United States on cybersecurity policy and strategy. The Biden-Harris Administration has received recognition for reaffirming vulnerabilities that must be considered in lockstep with technological advancements. The ONCD has received support from industry leaders, academia, and the private sector for this initiative.\u001b[0m\n",
      "\n",
      "\u001b[1m> Finished chain.\u001b[0m\n"
     ]
    },
    {
     "data": {
      "text/plain": [
       "{'input': 'News about National Cyber Director',\n",
       " 'chat_history': [HumanMessage(content='What is UK government doing'),\n",
       "  AIMessage(content=\"The UK government is investing in quantum technology and space industries to support startups and drive innovation. They are providing significant funding for quantum technology startups and space companies, with the aim of boosting growth, creating jobs, and fostering technological advancements. Additionally, they have launched programs like Made Smarter Adoption to support manufacturing SMEs in adopting digital technologies and improving productivity. The government's focus on supporting technology development within the UK is part of a long-term plan to make the country a world leader in these emerging technologies.\"),\n",
       "  HumanMessage(content='Give me news on date 13/03/24 to 15/03/24'),\n",
       "  AIMessage(content=\"I'm sorry, but I don't have access to real-time news updates. Is there anything else I can assist you with?\"),\n",
       "  HumanMessage(content='Recommend me news related to artificial intelligence'),\n",
       "  AIMessage(content=\"The UK government is investing in quantum technology and space industries to support startups and drive innovation. They are providing significant funding for quantum technology startups and space companies, with the aim of boosting growth, creating jobs, and fostering technological advancements. Additionally, they have launched programs like Made Smarter Adoption to support manufacturing SMEs in adopting digital technologies and improving productivity. The government's focus on supporting technology development within the UK is part of a long-term plan to make the country a world leader in these emerging technologies. If you have any other questions or need further information, feel free to ask!\"),\n",
       "  HumanMessage(content='Can you repeat the second news article'),\n",
       "  AIMessage(content=\"The UK government is investing in quantum technology and space industries to support startups and drive innovation. They are providing significant funding for quantum technology startups and space companies, with the aim of boosting growth, creating jobs, and fostering technological advancements. Additionally, they have launched programs like Made Smarter Adoption to support manufacturing SMEs in adopting digital technologies and improving productivity. The government's focus on supporting technology development within the UK is part of a long-term plan to make the country a world leader in these emerging technologies. If you have any other questions or need further information, feel free to ask!\"),\n",
       "  HumanMessage(content='Can you tell me more about the first news article'),\n",
       "  AIMessage(content=\"The first news article discusses a German startup called Quantistry that is using a mix of quantum tech, physics-based simulations, and machine learning to fast-track the discovery of sustainable materials for green technologies. The company has recently secured €3 million in funding, including backing from Chemovator, the business incubator of BASF. Quantistry's cloud-based platform allows users to determine material and molecular properties in simulation, speeding up the R&D process and making it more accessible to companies. The funding will be used to further develop the simulation platform and secure new customers.\")],\n",
       " 'output': 'The National Cyber Director has urged the largest players in emerging technologies to adopt safer programming languages to reduce memory safety vulnerabilities. This advice was released as part of a new report titled “Back to the Building Blocks: A Path Toward Secure and Measurable Software.” The ONCD advises the President of the United States on cybersecurity policy and strategy. The Biden-Harris Administration has received recognition for reaffirming vulnerabilities that must be considered in lockstep with technological advancements. The ONCD has received support from industry leaders, academia, and the private sector for this initiative.'}"
      ]
     },
     "execution_count": 195,
     "metadata": {},
     "output_type": "execute_result"
    }
   ],
   "source": [
    "agent(\"News about National Cyber Director\")"
   ]
  },
  {
   "cell_type": "code",
   "execution_count": 196,
   "metadata": {},
   "outputs": [
    {
     "name": "stdout",
     "output_type": "stream",
     "text": [
      "\n",
      "\n",
      "\u001b[1m> Entering new AgentExecutor chain...\u001b[0m\n",
      "\u001b[32;1m\u001b[1;3mThought: Do I need to use a tool? No\n",
      "AI: The fourth news article in the previous message discussed the National Cyber Director urging the largest players in emerging technologies to adopt safer programming languages to reduce memory safety vulnerabilities. This advice was released as part of a new report titled “Back to the Building Blocks: A Path Toward Secure and Measurable Software.” The ONCD advises the President of the United States on cybersecurity policy and strategy. The Biden-Harris Administration has received recognition for reaffirming vulnerabilities that must be considered in lockstep with technological advancements. The ONCD has received support from industry leaders, academia, and the private sector for this initiative.\u001b[0m\n",
      "\n",
      "\u001b[1m> Finished chain.\u001b[0m\n"
     ]
    },
    {
     "data": {
      "text/plain": [
       "{'input': 'Can you repeat the fourth news article in the previous message',\n",
       " 'chat_history': [HumanMessage(content='Give me news on date 13/03/24 to 15/03/24'),\n",
       "  AIMessage(content=\"I'm sorry, but I don't have access to real-time news updates. Is there anything else I can assist you with?\"),\n",
       "  HumanMessage(content='Recommend me news related to artificial intelligence'),\n",
       "  AIMessage(content=\"The UK government is investing in quantum technology and space industries to support startups and drive innovation. They are providing significant funding for quantum technology startups and space companies, with the aim of boosting growth, creating jobs, and fostering technological advancements. Additionally, they have launched programs like Made Smarter Adoption to support manufacturing SMEs in adopting digital technologies and improving productivity. The government's focus on supporting technology development within the UK is part of a long-term plan to make the country a world leader in these emerging technologies. If you have any other questions or need further information, feel free to ask!\"),\n",
       "  HumanMessage(content='Can you repeat the second news article'),\n",
       "  AIMessage(content=\"The UK government is investing in quantum technology and space industries to support startups and drive innovation. They are providing significant funding for quantum technology startups and space companies, with the aim of boosting growth, creating jobs, and fostering technological advancements. Additionally, they have launched programs like Made Smarter Adoption to support manufacturing SMEs in adopting digital technologies and improving productivity. The government's focus on supporting technology development within the UK is part of a long-term plan to make the country a world leader in these emerging technologies. If you have any other questions or need further information, feel free to ask!\"),\n",
       "  HumanMessage(content='Can you tell me more about the first news article'),\n",
       "  AIMessage(content=\"The first news article discusses a German startup called Quantistry that is using a mix of quantum tech, physics-based simulations, and machine learning to fast-track the discovery of sustainable materials for green technologies. The company has recently secured €3 million in funding, including backing from Chemovator, the business incubator of BASF. Quantistry's cloud-based platform allows users to determine material and molecular properties in simulation, speeding up the R&D process and making it more accessible to companies. The funding will be used to further develop the simulation platform and secure new customers.\"),\n",
       "  HumanMessage(content='News about National Cyber Director'),\n",
       "  AIMessage(content='The National Cyber Director has urged the largest players in emerging technologies to adopt safer programming languages to reduce memory safety vulnerabilities. This advice was released as part of a new report titled “Back to the Building Blocks: A Path Toward Secure and Measurable Software.” The ONCD advises the President of the United States on cybersecurity policy and strategy. The Biden-Harris Administration has received recognition for reaffirming vulnerabilities that must be considered in lockstep with technological advancements. The ONCD has received support from industry leaders, academia, and the private sector for this initiative.')],\n",
       " 'output': 'The fourth news article in the previous message discussed the National Cyber Director urging the largest players in emerging technologies to adopt safer programming languages to reduce memory safety vulnerabilities. This advice was released as part of a new report titled “Back to the Building Blocks: A Path Toward Secure and Measurable Software.” The ONCD advises the President of the United States on cybersecurity policy and strategy. The Biden-Harris Administration has received recognition for reaffirming vulnerabilities that must be considered in lockstep with technological advancements. The ONCD has received support from industry leaders, academia, and the private sector for this initiative.'}"
      ]
     },
     "execution_count": 196,
     "metadata": {},
     "output_type": "execute_result"
    }
   ],
   "source": [
    "agent('Can you repeat the fourth news article in the previous message')"
   ]
  },
  {
   "cell_type": "code",
   "execution_count": 197,
   "metadata": {},
   "outputs": [
    {
     "name": "stdout",
     "output_type": "stream",
     "text": [
      "\n",
      "\n",
      "\u001b[1m> Entering new AgentExecutor chain...\u001b[0m\n",
      "\u001b[32;1m\u001b[1;3mThought: Do I need to use a tool? No\n",
      "AI: The fourth news article in the previous message discussed the National Cyber Director urging the largest players in emerging technologies to adopt safer programming languages to reduce memory safety vulnerabilities. This advice was released as part of a new report titled “Back to the Building Blocks: A Path Toward Secure and Measurable Software.” The ONCD advises the President of the United States on cybersecurity policy and strategy. The Biden-Harris Administration has received recognition for reaffirming vulnerabilities that must be considered in lockstep with technological advancements. The ONCD has received support from industry leaders, academia, and the private sector for this initiative.\u001b[0m\n",
      "\n",
      "\u001b[1m> Finished chain.\u001b[0m\n"
     ]
    },
    {
     "data": {
      "text/plain": [
       "{'input': 'Can you elaborate the fourth news article in the previous message',\n",
       " 'chat_history': [HumanMessage(content='Recommend me news related to artificial intelligence'),\n",
       "  AIMessage(content=\"The UK government is investing in quantum technology and space industries to support startups and drive innovation. They are providing significant funding for quantum technology startups and space companies, with the aim of boosting growth, creating jobs, and fostering technological advancements. Additionally, they have launched programs like Made Smarter Adoption to support manufacturing SMEs in adopting digital technologies and improving productivity. The government's focus on supporting technology development within the UK is part of a long-term plan to make the country a world leader in these emerging technologies. If you have any other questions or need further information, feel free to ask!\"),\n",
       "  HumanMessage(content='Can you repeat the second news article'),\n",
       "  AIMessage(content=\"The UK government is investing in quantum technology and space industries to support startups and drive innovation. They are providing significant funding for quantum technology startups and space companies, with the aim of boosting growth, creating jobs, and fostering technological advancements. Additionally, they have launched programs like Made Smarter Adoption to support manufacturing SMEs in adopting digital technologies and improving productivity. The government's focus on supporting technology development within the UK is part of a long-term plan to make the country a world leader in these emerging technologies. If you have any other questions or need further information, feel free to ask!\"),\n",
       "  HumanMessage(content='Can you tell me more about the first news article'),\n",
       "  AIMessage(content=\"The first news article discusses a German startup called Quantistry that is using a mix of quantum tech, physics-based simulations, and machine learning to fast-track the discovery of sustainable materials for green technologies. The company has recently secured €3 million in funding, including backing from Chemovator, the business incubator of BASF. Quantistry's cloud-based platform allows users to determine material and molecular properties in simulation, speeding up the R&D process and making it more accessible to companies. The funding will be used to further develop the simulation platform and secure new customers.\"),\n",
       "  HumanMessage(content='News about National Cyber Director'),\n",
       "  AIMessage(content='The National Cyber Director has urged the largest players in emerging technologies to adopt safer programming languages to reduce memory safety vulnerabilities. This advice was released as part of a new report titled “Back to the Building Blocks: A Path Toward Secure and Measurable Software.” The ONCD advises the President of the United States on cybersecurity policy and strategy. The Biden-Harris Administration has received recognition for reaffirming vulnerabilities that must be considered in lockstep with technological advancements. The ONCD has received support from industry leaders, academia, and the private sector for this initiative.'),\n",
       "  HumanMessage(content='Can you repeat the fourth news article in the previous message'),\n",
       "  AIMessage(content='The fourth news article in the previous message discussed the National Cyber Director urging the largest players in emerging technologies to adopt safer programming languages to reduce memory safety vulnerabilities. This advice was released as part of a new report titled “Back to the Building Blocks: A Path Toward Secure and Measurable Software.” The ONCD advises the President of the United States on cybersecurity policy and strategy. The Biden-Harris Administration has received recognition for reaffirming vulnerabilities that must be considered in lockstep with technological advancements. The ONCD has received support from industry leaders, academia, and the private sector for this initiative.')],\n",
       " 'output': 'The fourth news article in the previous message discussed the National Cyber Director urging the largest players in emerging technologies to adopt safer programming languages to reduce memory safety vulnerabilities. This advice was released as part of a new report titled “Back to the Building Blocks: A Path Toward Secure and Measurable Software.” The ONCD advises the President of the United States on cybersecurity policy and strategy. The Biden-Harris Administration has received recognition for reaffirming vulnerabilities that must be considered in lockstep with technological advancements. The ONCD has received support from industry leaders, academia, and the private sector for this initiative.'}"
      ]
     },
     "execution_count": 197,
     "metadata": {},
     "output_type": "execute_result"
    }
   ],
   "source": [
    "agent('Can you elaborate the fourth news article in the previous message')"
   ]
  },
  {
   "cell_type": "code",
   "execution_count": 154,
   "metadata": {},
   "outputs": [
    {
     "name": "stdout",
     "output_type": "stream",
     "text": [
      "\n",
      "\n",
      "\u001b[1m> Entering new AgentExecutor chain...\u001b[0m\n",
      "\u001b[32;1m\u001b[1;3mThought: Do I need to use a tool? No\n",
      "AI: The answer to 2+2 is 4. If you have any other questions or need further assistance, feel free to ask!\u001b[0m\n",
      "\n",
      "\u001b[1m> Finished chain.\u001b[0m\n"
     ]
    },
    {
     "data": {
      "text/plain": [
       "{'input': '2+2 =?',\n",
       " 'chat_history': [HumanMessage(content='Give me news on date 13/03/24 to 15/03/24'),\n",
       "  AIMessage(content=\"I'm sorry, I don't have access to real-time news updates. I recommend checking a reliable news source for the latest news on the dates you mentioned.\"),\n",
       "  HumanMessage(content='Recommend me news related to artificial intelligence'),\n",
       "  AIMessage(content=\"Here are some news articles related to artificial intelligence that you might find interesting:\\n1. Title: Workplace AI negatively impacts quality of life, study finds, Link: [Workplace AI negatively impacts quality of life, study finds](https://readwrite.com/workplace-ai-negatively-impacts-quality-of-life-study-finds/)\\n2. Title: This startup taps quantum, AI to fast-track discovery of new materials, Link: [This startup taps quantum, AI to fast-track discovery of new materials](https://thenextweb.com/news/this-startup-taps-quantum-ai-to-fast-track-discovery-of-new-materials)\\n3. Title: The UK is improving productivity through new technologies and industrial digital transformation, Link: [The UK is improving productivity through new technologies and industrial digital transformation](https://www.businessinsider.com/sc/how-the-uk-is-helping-the-manufacturing-sector-improve-productivity)\\n4. Title: New AI and 5G advancements will usher in the era of edge computing on smartphones, autonomous cars, and more, Link: [New AI and 5G advancements will usher in the era of edge computing on smartphones, autonomous cars, and more](https://www.businessinsider.com/ai-edge-computing-5g-cloud-artificial-intelligence-2024-3)\\n5. Title: Future-first thinking, Link: [Future-first thinking](https://www.businessinsider.com/sc/how-investment-is-unlocking-innovation-in-the-quantum-and-space-sectors)\\n\\nLet me know if you'd like more information on any of these articles!\"),\n",
       "  HumanMessage(content='Can you repeat the second news article'),\n",
       "  AIMessage(content='The second news article is titled \"This startup taps quantum, AI to fast-track discovery of new materials.\" You can find the article [here](https://thenextweb.com/news/this-startup-taps-quantum-ai-to-fast-track-discovery-of-new-materials).'),\n",
       "  HumanMessage(content='Can you tell me more about the first news article'),\n",
       "  AIMessage(content='The first news article is titled \"Workplace AI negatively impacts quality of life, study finds.\" It discusses the impact of AI in the workplace and how it can affect the quality of life for employees. You can find the article [here](https://readwrite.com/workplace-ai-negatively-impacts-quality-of-life-study-finds/).'),\n",
       "  HumanMessage(content='Can you repeat the fourth news article in the previous message'),\n",
       "  AIMessage(content='The fourth news article is titled \"New AI and 5G advancements will usher in the era of edge computing on smartphones, autonomous cars, and more.\" You can find the article [here](https://www.businessinsider.com/ai-edge-computing-5g-cloud-artificial-intelligence-2024-3).')],\n",
       " 'output': 'The answer to 2+2 is 4. If you have any other questions or need further assistance, feel free to ask!'}"
      ]
     },
     "execution_count": 154,
     "metadata": {},
     "output_type": "execute_result"
    }
   ],
   "source": [
    "agent('2+2 =?')"
   ]
  },
  {
   "cell_type": "markdown",
   "metadata": {},
   "source": [
    "OpenAI example"
   ]
  },
  {
   "cell_type": "code",
   "execution_count": 177,
   "metadata": {},
   "outputs": [],
   "source": [
    "\n",
    "# import os\n",
    "# from openai import OpenAI\n",
    "\n",
    "# system_message = {\"role\": \"system\", \n",
    "#                   \"content\": \"\"\"You are a bot that will either provide news recommendations, news summaries or answer questions related to the news asked by users.\n",
    "#     You are speaking to a professional so keep the answer informative and concise.\n",
    "\n",
    "#     You are given an article(s) to summarize. Please respond with the following using information given.\n",
    "#     Title: <Title Name>\n",
    "#     Website Link: <Link of Website>\n",
    "#     Date of Article: <Get the latest date of publication>\n",
    "#     Names to note: <Names of Company and people mentioned within the article>\n",
    "#     Key Topic: <Key topic of this article>\n",
    "#     Sentiment: <conduct sentiment analysis and let them know the sentiment>\n",
    "#     Trends & Statistics: <Include any trends and statistics found, make it short and do not repeat it in summary>\n",
    "#     Summary: <The summarised version of the article>\n",
    "\n",
    "#         Assistant:\"\"\"}\n",
    "\n",
    "# conversation = []\n",
    "# conversation.append(system_message)\n",
    "\n",
    "# client = OpenAI(\n",
    "#     # defaults to os.environ.get(\"OPENAI_API_KEY\")\n",
    "#     api_key=os.getenv(\"OPENAI_API_KEY\"),\n",
    "# )\n",
    "\n",
    "# def user_query(query):\n",
    "#     #add user query to conversation for gpt's response \n",
    "#     conversation.append({\"role\": \"user\", \"content\": query})\n",
    "#     response = client.chat.completions.create(\n",
    "#         model=\"gpt-3.5-turbo-1106\",\n",
    "#         messages= conversation\n",
    "#         # temperature=0.7,\n",
    "#     )\n",
    "#     #add bot reply to conversation\n",
    "#     conversation.append({\"role\": \"assistant\", \"content\": response.choices[0].message.content})\n",
    "#     return response.choices[0].message.content.strip()\n",
    "\n",
    "# from newsMongo import urlScrapeAndStore\n",
    "# #link test\n",
    "# url = ['<https://www.cnbc.com/2023/04/30/cloud-providers-amazon-microsoft-and-google-face-spending-cuts.html>']\n",
    "# output = ''\n",
    "# articles = []\n",
    "# for x in url:\n",
    "#     article = urlScrapeAndStore(x)\n",
    "#     articles.append(article)\n",
    "#     output = user_query(str(articles))\n",
    "#     print(\"Here is output \\n\")\n",
    "#     print(output)\n",
    "#     print(\"\\n\")\n",
    "\n",
    "# # response = user_query(\"\"\"Summarise this Coral Bay Nickel Corporation donated uniforms and medical kits to Palawan’s barangay health workers on Monday, an initiative enhancing local healthcare support.\n",
    "\n",
    "# # The Provincial Information Office said Vice Governor Leoncio Ola and Board Member Marivic Roxas, chairperson of the Committee on Health and Social Services of the Sangguniang Panlalawigan, received the donations.\n",
    "\n",
    "# # Ernesto Llacuna, community relations manager of CBNC, facilitated the distribution of approximately 2,000 barangya health workers (BHW) uniforms, 150 BP monitors, and 150 thermometers to health workers in the southern region of the province.\n",
    "\n",
    "# # Attendees included Board Members Juan Antonio Alvarez and Luzviminda Bautista, Dr. Justyn Barbosa, Medical Specialist IV, representing Provincial Health Officer Dr. Faye Erika Q. Labrador, and CVHW Manager Jenevil V. Tombaga.\n",
    "# #                       \"\"\")\n",
    "# # print(response)\n",
    "\n",
    "# # print(\"Here is the conversation with template but with user and chatbot history \\\\n\")\n",
    "# # print(conversation)\n",
    "\n",
    "# #can delete/edit role: system basically the template by del conversation[0] or conversation[0]['content'] = new template\n",
    "# # del conversation[0]\n",
    "# conversation[0]['content'] = \"\"\"new template\"\"\"\n",
    "\n",
    "# # print(\"Here is the conversation without template but with user and chatbot history \\n\")\n",
    "# # print(conversation)"
   ]
  }
 ],
 "metadata": {
  "kernelspec": {
   "display_name": "Python 3",
   "language": "python",
   "name": "python3"
  },
  "language_info": {
   "codemirror_mode": {
    "name": "ipython",
    "version": 3
   },
   "file_extension": ".py",
   "mimetype": "text/x-python",
   "name": "python",
   "nbconvert_exporter": "python",
   "pygments_lexer": "ipython3",
   "version": "3.10.5"
  }
 },
 "nbformat": 4,
 "nbformat_minor": 2
}
