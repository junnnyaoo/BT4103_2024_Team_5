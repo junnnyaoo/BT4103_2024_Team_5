{
 "cells": [
  {
   "cell_type": "code",
   "execution_count": null,
   "metadata": {},
   "outputs": [],
   "source": [
    "import pandas as pd"
   ]
  },
  {
   "cell_type": "code",
   "execution_count": null,
   "metadata": {},
   "outputs": [],
   "source": [
    "# Read the CSV file into a DataFrame\n",
    "df = pd.read_csv('news_r.csv')\n",
    "df_2 = pd.read_csv('dBert_column.csv')\n",
    "\n",
    "# List of categories to label as 1\n",
    "label_1_categories = [\"Business\",\"General\",\"Finance\"]\n",
    "\n",
    "# Apply a lambda function to assign labels\n",
    "df['bart_col'] = df_2['bart_cat'].apply(lambda x: 0 if x in label_1_categories else 1)\n",
    "\n",
    "\n",
    "# Replace \"Yes\" and \"No\" with 1s and 0s respectively\n",
    "df.replace({\"Relevant\": 1, \"Irrelevant\": 0}, inplace=True)\n",
    "\n",
    "# Separate predictions and ground truth\n",
    "predictions = df['bart_col']  # Assuming predictions are in the first row\n",
    "ground_truth = df['groundTruth']  # Assuming ground truth is in the second row\n",
    "\n",
    "\n",
    "#print(predictions)\n",
    "\n",
    "# Compare predictions and ground truth\n",
    "correct_predictions = (predictions == ground_truth).sum()\n",
    "total_predictions = len(predictions)\n",
    "\n",
    "# Print results\n",
    "print(\"Predictions:\", predictions.values)\n",
    "print(\"Ground Truth:\", ground_truth.values)\n",
    "print(\"Number of correct predictions:\", correct_predictions)\n",
    "print(\"Total predictions made:\", total_predictions)\n",
    "print(\"Accuracy:\", correct_predictions / total_predictions)"
   ]
  },
  {
   "cell_type": "code",
   "execution_count": null,
   "metadata": {},
   "outputs": [],
   "source": []
  }
 ],
 "metadata": {
  "language_info": {
   "name": "python"
  },
  "orig_nbformat": 4
 },
 "nbformat": 4,
 "nbformat_minor": 2
}
