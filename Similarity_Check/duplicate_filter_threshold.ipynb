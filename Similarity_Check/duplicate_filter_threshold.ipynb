{
 "cells": [
  {
   "cell_type": "code",
   "execution_count": 9,
   "metadata": {},
   "outputs": [],
   "source": [
    "import os\n",
    "from dotenv import load_dotenv\n",
    "from pymongo import MongoClient\n",
    "from langchain_openai import OpenAIEmbeddings\n",
    "from newspaper import Article\n",
    "import threading\n",
    "from urllib.parse import urlparse"
   ]
  },
  {
   "cell_type": "code",
   "execution_count": 4,
   "metadata": {},
   "outputs": [],
   "source": [
    "load_dotenv()\n",
    "mongo_client = MongoClient(os.getenv(\"MONGODB_URI\"))\n"
   ]
  },
  {
   "cell_type": "code",
   "execution_count": 5,
   "metadata": {},
   "outputs": [],
   "source": [
    "#--- Knowledge DB ----#\n",
    "db = mongo_client.get_database(\"knowledge_db\")\n",
    "newsArticleCollection = db[\"tech_articles\"]\n",
    "api_key = os.getenv(\"OPENAI_API_KEY\")"
   ]
  },
  {
   "cell_type": "code",
   "execution_count": 14,
   "metadata": {},
   "outputs": [],
   "source": [
    "def urlScrapeAndStore(url):\n",
    "\n",
    "    article = Article(url)\n",
    "    article.download()\n",
    "    article.parse()\n",
    "\n",
    "    # Extract source\n",
    "    parsed_url = urlparse(url)\n",
    "    source  = parsed_url.netloc\n",
    "    \n",
    "    # Extract author\n",
    "    try:\n",
    "        author = article.authors[0]\n",
    "    except:\n",
    "        author= \"Not Found\"\n",
    "    try:\n",
    "        author = article.authors[0]\n",
    "    except:\n",
    "        author= \"Not Found\"\n",
    "\n",
    "    # Extract title\n",
    "    title  = article.title\n",
    "    \n",
    "    # Scrap the full content from the URL\n",
    "    content  = article.text\n",
    "\n",
    "    return content\n"
   ]
  },
  {
   "cell_type": "code",
   "execution_count": 15,
   "metadata": {},
   "outputs": [],
   "source": [
    "def check_duplicate(article_embedding, collection):\n",
    "\n",
    "    #article_embeddings = OpenAIEmbeddings(api_key=api_key, model=\"text-embedding-3-large\", dimensions=1536) # model used to embed article\n",
    "    #article_embedding = article_embeddings.embed_query(article)\n",
    "    pipeline = [\n",
    "        {\n",
    "            \"$vectorSearch\": { # $vectorSearch is the specific function name\n",
    "                \"index\": \"vector_index\", # The search index I created on MongoDB\n",
    "                \"queryVector\": article_embedding, # The embedded query from the user that is used for searching\n",
    "                \"path\": \"embeddedContent\", # The relevant field of the document that is used for searching (in this case the full text of the news article)\n",
    "                \"limit\": 15, # How many results you want the vectorSearch to show\n",
    "                \"numCandidates\": 100 # How many documents you want vectorSearch to consider when searching\n",
    "            }\n",
    "        }, \n",
    "        {\n",
    "                '$project': {\n",
    "                '_id': 0, \n",
    "                'plot': 1, \n",
    "                'title': 1, \n",
    "                'score': {\n",
    "                    '$meta': 'vectorSearchScore'\n",
    "                }\n",
    "            }\n",
    "        }\n",
    "    ]\n",
    "    \n",
    "    results = collection.aggregate(pipeline) # executing the search\n",
    "    #article_check_duplicate = \"In another example, Yue asks the phone to find a gift for his grandma who cannot get out of bed. It generated an interface with several products within carousels, and each row had a brief explanation of why the product might be a good fit. He settled on the Kindle.\\n\\nYue then did a long-press on the product card to ask another query: \\\"What is the screen made of?\\\" The phone generated the answer as a paragraph of text below (notably with no sources), and when he then asked to watch unboxing videos, it added a row of YouTube videos on the topic.\\n\\nThis wizardry is reminiscent of Siri cofounder Dag Kittlaus' onstage demo of Viv way back in 2016, which was designed to be a conversational smart layer that let users interact with various services. His live demo also included asking by voice the digital assistant to book him a hotel room in Palm Springs. Clearly mighty impressed, Samsung snapped up Viv later that same year, and we've not really seen anything of it since.\\n\\nYou can get a pretty good glimpse of how Brain Technologies' tech works with its app, Natural AI, which it released in 2020. Yue says his company pioneered the large action models that can enable a digital AI assistant to execute tasks. Since the company had an early start, its AI can purportedly generate interfaces for more than 4 million functions it has trained since 2016. That should cover almost anything you can do on a computing device. “Instead of going to apps, apps come to you,” he says.\\n\\nBut Yue doesn’t think we’re moving away from apps just yet. That’s why this concept device is still an Android phone. If you don’t want to converse with the AI, you can access apps just like normal. The touchscreen isn’t going away either, and he believes this concept is the right combination of AI and a graphical interface.\\n\\nBrain Technologies has apparently already received tremendous interest from other manufacturers, and Yue says it's the only AI company the Emerson Collective (Laurene Powell Jobs' venture capital firm) has invested in. It seems almost inevitable that we'll see its generated interfaces in more kinds of devices in the future.\\n\\n“Everything is app-centric,” Yue says. “We’re trying to build a human-centric future. We’re trying to give people more power in this relationship. At the end of the day, whatever the next best interface is, wins.”\\n\\nSierra, a startup developing AI-powered agents to “elevate the customer experience” for big companies including WeightWatchers, Sonos, and SiriusXM, is of a similar view, stating that, in the future, a company’s AI version of itself will be just as, if not more, important as its app or website. “It's going to completely change the way companies exist digitally,” says Bret Taylor, who left his job as co-CEO of Salesforce to start Sierra.\\n\\nHuman After All\\n\\nThe founders of A Phone, A Friend—Tomas Ramanauskas and Tomas Dirvonskas—echoed the same sentiments on making phones more personal with the help of AI. “We think that AI gives an opportunity to humanize this relationship to actually make it more human instead of just this cold, transactional, attention economy kind of thing,” Ramanauskas says.\"\n",
    "    #result_check = check_duplicate(article_check_duplicate, newsArticleCollection)\n",
    "    for i in results:\n",
    "        print(i)\n",
    "        break\n",
    "    \n",
    "    return \"\""
   ]
  },
  {
   "cell_type": "code",
   "execution_count": 13,
   "metadata": {},
   "outputs": [],
   "source": [
    "article_embeddings = OpenAIEmbeddings(api_key=api_key, model=\"text-embedding-3-large\", dimensions=1536) # model used to embed article\n"
   ]
  },
  {
   "cell_type": "code",
   "execution_count": 18,
   "metadata": {},
   "outputs": [
    {
     "name": "stdout",
     "output_type": "stream",
     "text": [
      "{'title': 'OpenAI reveals Voice Engine, but won’t yet publicly release the risky AI voice-cloning technology', 'score': 0.9916411638259888}\n",
      "\n",
      "{'title': 'OpenAI reveals Voice Engine, but won’t yet publicly release the risky AI voice-cloning technology', 'score': 0.9916411638259888}\n",
      "\n",
      "{'title': 'OpenAI reveals Voice Engine, but won’t yet publicly release the risky AI voice-cloning technology', 'score': 0.9999868869781494}\n",
      "\n",
      "{'title': 'OpenAI reveals Voice Engine, but won’t yet publicly release the risky AI voice-cloning technology', 'score': 0.9628946781158447}\n",
      "\n",
      "{'title': 'OpenAI reveals Voice Engine, but won’t yet publicly release the risky AI voice-cloning technology', 'score': 0.9881179332733154}\n",
      "\n",
      "{'title': 'OpenAI reveals Voice Engine, but won’t yet publicly release the risky AI voice-cloning technology', 'score': 0.9958173036575317}\n",
      "\n"
     ]
    }
   ],
   "source": [
    "article = urlScrapeAndStore(\"https://www.pbs.org/newshour/economy/openai-reveals-voice-engine-but-wont-yet-release-it-publicly-due-to-safety-concerns\")\n",
    "article2 = urlScrapeAndStore(\"https://www.pbs.org/newshour/economy/openai-reveals-voice-engine-but-wont-yet-release-it-publicly-due-to-safety-concerns\")\n",
    "article3 = urlScrapeAndStore(\"https://apnews.com/article/openai-voice-engine-aigenerated-clone-chatgpt-87da88d979ea5c75e98c75914740bd85\")\n",
    "article4 = urlScrapeAndStore(\"https://www.taipeitimes.com/News/biz/archives/2024/04/01/2003815756\")\n",
    "article5 = urlScrapeAndStore(\"https://www.oregonlive.com/business/2024/03/openai-reveals-voice-cloning-technology-but-wont-release-it-yet-over-impersonation-concerns.html\")\n",
    "article6 = urlScrapeAndStore(\"https://www.washingtontimes.com/news/2024/mar/29/openai-reveals-voice-engine-wont-yet-publicly-rele/\")\n",
    "\n",
    "\n",
    "\n",
    "try:\n",
    "    info_a = article_embeddings.embed_query(article)\n",
    "except:\n",
    "    print(\"Error in content\")\n",
    "\n",
    "output = check_duplicate(info_a,newsArticleCollection)\n",
    "print(output)\n",
    "\n",
    "try:\n",
    "    info_b = article_embeddings.embed_query(article2)\n",
    "except:\n",
    "    print(\"Error in content\")\n",
    "\n",
    "output = check_duplicate(info_a,newsArticleCollection)\n",
    "print(output)\n",
    "\n",
    "try:\n",
    "    info_a = article_embeddings.embed_query(article3)\n",
    "except:\n",
    "    print(\"Error in content\")\n",
    "\n",
    "output = check_duplicate(info_a,newsArticleCollection)\n",
    "print(output)\n",
    "\n",
    "try:\n",
    "    info_a = article_embeddings.embed_query(article4)\n",
    "except:\n",
    "    print(\"Error in content\")\n",
    "\n",
    "output = check_duplicate(info_a,newsArticleCollection)\n",
    "print(output)\n",
    "\n",
    "try:\n",
    "    info_a = article_embeddings.embed_query(article5)\n",
    "except:\n",
    "    print(\"Error in content\")\n",
    "\n",
    "output = check_duplicate(info_a,newsArticleCollection)\n",
    "print(output)\n",
    "\n",
    "try:\n",
    "    info_a = article_embeddings.embed_query(article6)\n",
    "except:\n",
    "    print(\"Error in content\")\n",
    "\n",
    "output = check_duplicate(info_a,newsArticleCollection)\n",
    "print(output)"
   ]
  }
 ],
 "metadata": {
  "kernelspec": {
   "display_name": "Python 3",
   "language": "python",
   "name": "python3"
  },
  "language_info": {
   "codemirror_mode": {
    "name": "ipython",
    "version": 3
   },
   "file_extension": ".py",
   "mimetype": "text/x-python",
   "name": "python",
   "nbconvert_exporter": "python",
   "pygments_lexer": "ipython3",
   "version": "3.11.4"
  },
  "orig_nbformat": 4
 },
 "nbformat": 4,
 "nbformat_minor": 2
}
