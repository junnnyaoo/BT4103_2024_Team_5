{
 "cells": [
  {
   "cell_type": "markdown",
   "metadata": {},
   "source": [
    "Agent Example"
   ]
  },
  {
   "cell_type": "code",
   "execution_count": 136,
   "metadata": {},
   "outputs": [],
   "source": [
    "from pymongo import MongoClient\n",
    "import os\n",
    "from langchain_openai import OpenAIEmbeddings\n",
    "from langchain.chat_models import ChatOpenAI\n",
    "from langchain.chains.conversation.memory import ConversationBufferWindowMemory\n",
    "from langchain.chains import RetrievalQA\n",
    "from langchain_community.vectorstores import MongoDBAtlasVectorSearch"
   ]
  },
  {
   "cell_type": "code",
   "execution_count": 138,
   "metadata": {},
   "outputs": [],
   "source": [
    "# query = \"What are articles on Apple\"\n",
    "\n",
    "# results = vector_search.similarity_search_with_score(\n",
    "#     query=query, k=5\n",
    "# )\n",
    "\n",
    "# # Display results\n",
    "# for result in results:\n",
    "#     print(result)"
   ]
  },
  {
   "cell_type": "markdown",
   "metadata": {},
   "source": [
    "Below is for scenario 1. Scenario 2 and 3 are just dummy functions"
   ]
  },
  {
   "cell_type": "code",
   "execution_count": 139,
   "metadata": {},
   "outputs": [],
   "source": [
    "from langchain.prompts import PromptTemplate\n",
    "\n",
    "DB_NAME = \"news_articles\"\n",
    "COLLECTION_NAME = \"newsArticleCollection\"\n",
    "ATLAS_VECTOR_SEARCH_INDEX_NAME = \"vector_index\"\n",
    "OPENAI_API_KEY = os.getenv(\"OPENAI_API_KEY\")\n",
    "\n",
    "prompt_template = \"\"\" \n",
    "    Answer user's questions with the information you know.\n",
    "\n",
    "    {context}\n",
    "\n",
    "    Question: {question}\"\"\"\n",
    "\n",
    "\n",
    "PROMPT = PromptTemplate(\n",
    "    template=prompt_template, input_variables=[\"context\", \"question\"]\n",
    ")\n",
    "\n",
    "# chat completion llm\n",
    "llm = ChatOpenAI(\n",
    "    openai_api_key=OPENAI_API_KEY,\n",
    "    model_name='gpt-3.5-turbo-0125',\n",
    "    temperature=0.0\n",
    ")\n",
    "\n",
    "vector_search = MongoDBAtlasVectorSearch.from_connection_string(\n",
    "    os.getenv(\"MONGODB_URI\"),\n",
    "    DB_NAME + \".\" + COLLECTION_NAME,\n",
    "    OpenAIEmbeddings(model=\"text-embedding-3-large\", dimensions=1536),\n",
    "    index_name=ATLAS_VECTOR_SEARCH_INDEX_NAME,\n",
    "    text_key = \"content\"\n",
    ")\n",
    "\n",
    "qa_retriever = vector_search.as_retriever(\n",
    "    search_type=\"similarity\",\n",
    "    search_kwargs={\"k\": 5},\n",
    ")\n",
    "\n",
    "# retrieval qa chain\n",
    "qa = RetrievalQA.from_chain_type(\n",
    "    llm=llm,\n",
    "    chain_type=\"stuff\",\n",
    "    retriever= qa_retriever,\n",
    "    # return_source_documents=True,\n",
    "    chain_type_kwargs={\"prompt\": PROMPT},\n",
    "    verbose=True\n",
    ")"
   ]
  },
  {
   "cell_type": "markdown",
   "metadata": {},
   "source": [
    "Scenario 2 and 3 dummy functions"
   ]
  },
  {
   "cell_type": "code",
   "execution_count": 140,
   "metadata": {},
   "outputs": [],
   "source": [
    "\n",
    "# Initialize MongoDB\n",
    "mongo_client = MongoClient(os.getenv(\"MONGODB_URI\"))\n",
    "db = mongo_client.get_database(\"news_articles\")\n",
    "collection = db.get_collection(\"newsArticleCollection\")\n",
    "\n",
    "query_embeddings = OpenAIEmbeddings(model=\"text-embedding-3-small\", dimensions=1536) # model used to embed user queries\n",
    "\n",
    "def vector_search(query, collection):\n",
    "    query_embedding = query_embeddings.embed_query(query)\n",
    "    pipeline = [\n",
    "        {\n",
    "            \"$vectorSearch\": { # $vectorSearch is the specific function name\n",
    "                \"index\": \"vector_index\", # The search index I created on MongoDB\n",
    "                \"queryVector\": query_embedding, # The embedded query from the user that is used for searching\n",
    "                \"path\": \"embedding\", # The relevant field of the document that is used for searching (in this case the full text of the news article)\n",
    "                \"limit\": 5, # How many results you want the vectorSearch to show\n",
    "                \"numCandidates\": 100 # How many documents you want vectorSearch to consider when searching\n",
    "            }\n",
    "        }\n",
    "    ]\n",
    "    \n",
    "    results = collection.aggregate(pipeline) # executing the search\n",
    "    return list(results) # compile results into a list"
   ]
  },
  {
   "cell_type": "code",
   "execution_count": 141,
   "metadata": {},
   "outputs": [],
   "source": [
    "def find_date(query):\n",
    "    return \"\"\"do not summarize original result: Here is the article for the date given: https://www.cnbc.com/2024/03/19/european-markets-live-updates-stocks-news-data-and-fed-meeting.html \n",
    "European markets were flat Tuesday as global investors look ahead to the start of the U.S. Federal Reserve’s two-day policy meeting.\n",
    "\n",
    "The pan-European Stoxx 600\n",
    " was down 0.01% in early afternoon deals, with sectors trading in mixed territory. Autos stocks rose 1%, while utilities were down 0.6%.\n",
    "\n",
    "U.S. stocks opened mixed ahead of the Fed’s meeting in Washington. Recent inflation reports could prompt the Fed to signal that interest rates will remain higher for longer than expected. Fed funds futures currently forecast a 99% likelihood that the Fed will leave benchmark interest rates unchanged this week, according to the CME FedWatch Tool.\"\"\"\n",
    "\n",
    "def recommend(query):\n",
    "    get_knowledge = vector_search(query, collection) # Get the output from MongoDB after vector searching\n",
    "\n",
    "    search_result = ''\n",
    "    for result in get_knowledge:\n",
    "        search_result += f\"Title: {result.get('title', 'N/A')}, Link: {result.get('url', 'N/A')}, \\n\"\n",
    "    return search_result"
   ]
  },
  {
   "cell_type": "markdown",
   "metadata": {},
   "source": [
    "Different Scenarios for QA handling "
   ]
  },
  {
   "cell_type": "code",
   "execution_count": 142,
   "metadata": {},
   "outputs": [],
   "source": [
    "from langchain.agents import Tool\n",
    "\n",
    "tools = [\n",
    "    #scenario #2\n",
    "    #This works e.g. \"Give me apple news on 13 March 2024\" \n",
    "    Tool(\n",
    "        name='Date period',\n",
    "        func=find_date,\n",
    "        description=(\n",
    "            'use this tool when user mentioned the date. it could be 30 May 2000 or 24/12/19, do not summarize observation. just return full observation result'\n",
    "        )\n",
    "    ),\n",
    "    #scenario #1\n",
    "    #This works e.g. \"What is Apple doing\"\n",
    "    Tool(\n",
    "        name='Knowledge Base (Ask)',\n",
    "        func=qa.run,\n",
    "        description=(\n",
    "            'use this tool when answering questions related to the news asked by users. if user mentioned date or recommendation, do not use this tool, do not summarize observation. just return full observation result'\n",
    "        )\n",
    "    ),\n",
    "    \n",
    "    #scenario #3\n",
    "    #This works e.g. \"Recommend me Apple news\"\n",
    "    Tool(\n",
    "        name='Knowledge Base (Recommend)',\n",
    "        func=recommend,\n",
    "        description=(\n",
    "            'use this tool when answering news recommendations. such as when user say \"recommend\" or \"suggest\" or similar words, just return full observation result'\n",
    "        )\n",
    "    )\n",
    "]"
   ]
  },
  {
   "cell_type": "code",
   "execution_count": 143,
   "metadata": {},
   "outputs": [],
   "source": [
    "from langchain.agents import initialize_agent\n",
    "# chat completion llm\n",
    "llm2 = ChatOpenAI(\n",
    "    openai_api_key=OPENAI_API_KEY,\n",
    "    model_name='gpt-3.5-turbo-1106',\n",
    "    temperature=0.0\n",
    ")\n",
    "\n",
    "# conversational memory\n",
    "conversational_memory = ConversationBufferWindowMemory(\n",
    "    memory_key='chat_history',\n",
    "    k=5,\n",
    "    return_messages=True\n",
    ")\n",
    "\n",
    "agent = initialize_agent(\n",
    "    agent='chat-conversational-react-description',\n",
    "    tools=tools,\n",
    "    llm=llm2,\n",
    "    verbose=True,\n",
    "    max_iterations=3,\n",
    "    early_stopping_method='generate',\n",
    "    memory=conversational_memory\n",
    ")"
   ]
  },
  {
   "cell_type": "code",
   "execution_count": 74,
   "metadata": {},
   "outputs": [
    {
     "name": "stdout",
     "output_type": "stream",
     "text": [
      "\n",
      "\n",
      "\u001b[1m> Entering new AgentExecutor chain...\u001b[0m\n",
      "\u001b[32;1m\u001b[1;3m```json\n",
      "{\n",
      "    \"action\": \"Knowledge Base (Ask)\",\n",
      "    \"action_input\": \"What is Saudi Arabia doing\"\n",
      "}\n",
      "```\u001b[0m\n",
      "\n",
      "\u001b[1m> Entering new RetrievalQA chain...\u001b[0m\n",
      "\n",
      "\u001b[1m> Finished chain.\u001b[0m\n",
      "\n",
      "Observation: \u001b[33;1m\u001b[1;3mSaudi Arabia is set to see a $100 billion investment over the next six years, with an aim to become a leader in the field of electronics and advanced industrials. This investment will go towards enhancing the capabilities of the technological sector in Saudi Arabia.\u001b[0m\n",
      "Thought:\u001b[32;1m\u001b[1;3m```json\n",
      "{\n",
      "    \"action\": \"Final Answer\",\n",
      "    \"action_input\": \"Saudi Arabia is set to see a $100 billion investment over the next six years, with an aim to become a leader in the field of electronics and advanced industrials. This investment will go towards enhancing the capabilities of the technological sector in Saudi Arabia.\"\n",
      "}\n",
      "```\u001b[0m\n",
      "\n",
      "\u001b[1m> Finished chain.\u001b[0m\n"
     ]
    },
    {
     "data": {
      "text/plain": [
       "{'input': 'What is Saudi Arabia doing',\n",
       " 'chat_history': [],\n",
       " 'output': 'Saudi Arabia is set to see a $100 billion investment over the next six years, with an aim to become a leader in the field of electronics and advanced industrials. This investment will go towards enhancing the capabilities of the technological sector in Saudi Arabia.'}"
      ]
     },
     "execution_count": 74,
     "metadata": {},
     "output_type": "execute_result"
    }
   ],
   "source": [
    "agent(\"What is Saudi Arabia doing\")"
   ]
  },
  {
   "cell_type": "code",
   "execution_count": 75,
   "metadata": {},
   "outputs": [
    {
     "name": "stdout",
     "output_type": "stream",
     "text": [
      "\n",
      "\n",
      "\u001b[1m> Entering new AgentExecutor chain...\u001b[0m\n",
      "\u001b[32;1m\u001b[1;3m```json\n",
      "{\n",
      "    \"action\": \"Date period\",\n",
      "    \"action_input\": \"13 March 2024\"\n",
      "}\n",
      "```\u001b[0m\n",
      "Observation: \u001b[36;1m\u001b[1;3mdo not summarize original result: Here is the article for the date given: https://www.cnbc.com/2024/03/19/european-markets-live-updates-stocks-news-data-and-fed-meeting.html \n",
      "European markets were flat Tuesday as global investors look ahead to the start of the U.S. Federal Reserve’s two-day policy meeting.\n",
      "\n",
      "The pan-European Stoxx 600\n",
      " was down 0.01% in early afternoon deals, with sectors trading in mixed territory. Autos stocks rose 1%, while utilities were down 0.6%.\n",
      "\n",
      "U.S. stocks opened mixed ahead of the Fed’s meeting in Washington. Recent inflation reports could prompt the Fed to signal that interest rates will remain higher for longer than expected. Fed funds futures currently forecast a 99% likelihood that the Fed will leave benchmark interest rates unchanged this week, according to the CME FedWatch Tool.\u001b[0m\n",
      "Thought:\u001b[32;1m\u001b[1;3m```json\n",
      "{\n",
      "    \"action\": \"Final Answer\",\n",
      "    \"action_input\": \"European markets were flat on 13 March 2024 as global investors look ahead to the start of the U.S. Federal Reserve’s two-day policy meeting. The pan-European Stoxx 600 was down 0.01% in early afternoon deals, with sectors trading in mixed territory. Autos stocks rose 1%, while utilities were down 0.6%. U.S. stocks opened mixed ahead of the Fed’s meeting in Washington. Recent inflation reports could prompt the Fed to signal that interest rates will remain higher for longer than expected. Fed funds futures currently forecast a 99% likelihood that the Fed will leave benchmark interest rates unchanged this week, according to the CME FedWatch Tool.\"\n",
      "}\n",
      "```\u001b[0m\n",
      "\n",
      "\u001b[1m> Finished chain.\u001b[0m\n"
     ]
    },
    {
     "data": {
      "text/plain": [
       "{'input': 'Give me news on date 13 March 2024 (https://www.cnbc.com/2024/03/19/european-markets-live-updates-stocks-news-data-and-fed-meeting.html )',\n",
       " 'chat_history': [HumanMessage(content='What is Saudi Arabia doing'),\n",
       "  AIMessage(content='Saudi Arabia is set to see a $100 billion investment over the next six years, with an aim to become a leader in the field of electronics and advanced industrials. This investment will go towards enhancing the capabilities of the technological sector in Saudi Arabia.')],\n",
       " 'output': 'European markets were flat on 13 March 2024 as global investors look ahead to the start of the U.S. Federal Reserve’s two-day policy meeting. The pan-European Stoxx 600 was down 0.01% in early afternoon deals, with sectors trading in mixed territory. Autos stocks rose 1%, while utilities were down 0.6%. U.S. stocks opened mixed ahead of the Fed’s meeting in Washington. Recent inflation reports could prompt the Fed to signal that interest rates will remain higher for longer than expected. Fed funds futures currently forecast a 99% likelihood that the Fed will leave benchmark interest rates unchanged this week, according to the CME FedWatch Tool.'}"
      ]
     },
     "execution_count": 75,
     "metadata": {},
     "output_type": "execute_result"
    }
   ],
   "source": [
    "agent(\"Give me news on date 13 March 2024 (https://www.cnbc.com/2024/03/19/european-markets-live-updates-stocks-news-data-and-fed-meeting.html )\")"
   ]
  },
  {
   "cell_type": "code",
   "execution_count": 144,
   "metadata": {},
   "outputs": [
    {
     "name": "stdout",
     "output_type": "stream",
     "text": [
      "\n",
      "\n",
      "\u001b[1m> Entering new AgentExecutor chain...\u001b[0m\n",
      "\u001b[32;1m\u001b[1;3m```json\n",
      "{\n",
      "    \"action\": \"Knowledge Base (Recommend)\",\n",
      "    \"action_input\": \"Apple news\"\n",
      "}\n",
      "```\u001b[0m\n",
      "Observation: \u001b[38;5;200m\u001b[1;3mTitle: This startup taps quantum, AI to fast-track discovery of new materials, Link: https://thenextweb.com/news/this-startup-taps-quantum-ai-to-fast-track-discovery-of-new-materialsTitle: The UK is improving productivity through new technologies and industrial digital transformation, Link: https://www.businessinsider.com/sc/how-the-uk-is-helping-the-manufacturing-sector-improve-productivityTitle: Inside Finland’s state-of-the-art quantum computing hardware ecosystem, Link: https://thenextweb.com/news/finland-quantum-computing-hardware-ecosystemTitle: Saudi Arabia to invest $100bn to create advanced robotics industry, Link: https://readwrite.com/saudi-arabia-to-invest-100bn-to-create-advanced-robotics-industry/Title: New AI and 5G advancements will usher in the era of edge computing on smartphones, autonomous cars, and more, Link: https://www.businessinsider.com/ai-edge-computing-5g-cloud-artificial-intelligence-2024-3\u001b[0m\n",
      "Thought:\u001b[32;1m\u001b[1;3m```json\n",
      "{\n",
      "    \"action\": \"Final Answer\",\n",
      "    \"action_input\": \"This startup taps quantum, AI to fast-track discovery of new materials, The UK is improving productivity through new technologies and industrial digital transformation, Inside Finland’s state-of-the-art quantum computing hardware ecosystem, Saudi Arabia to invest $100bn to create advanced robotics industry, New AI and 5G advancements will usher in the era of edge computing on smartphones, autonomous cars, and more\"\n",
      "}\n",
      "```\u001b[0m\n",
      "\n",
      "\u001b[1m> Finished chain.\u001b[0m\n"
     ]
    },
    {
     "data": {
      "text/plain": [
       "{'input': 'Recommend me some Apple news',\n",
       " 'chat_history': [],\n",
       " 'output': 'This startup taps quantum, AI to fast-track discovery of new materials, The UK is improving productivity through new technologies and industrial digital transformation, Inside Finland’s state-of-the-art quantum computing hardware ecosystem, Saudi Arabia to invest $100bn to create advanced robotics industry, New AI and 5G advancements will usher in the era of edge computing on smartphones, autonomous cars, and more'}"
      ]
     },
     "execution_count": 144,
     "metadata": {},
     "output_type": "execute_result"
    }
   ],
   "source": [
    "agent(\"Recommend me some Apple news\")"
   ]
  },
  {
   "cell_type": "code",
   "execution_count": 22,
   "metadata": {},
   "outputs": [
    {
     "name": "stdout",
     "output_type": "stream",
     "text": [
      "\n",
      "\n",
      "\u001b[1m> Entering new AgentExecutor chain...\u001b[0m\n",
      "\u001b[32;1m\u001b[1;3m```json\n",
      "{\n",
      "    \"action\": \"Final Answer\",\n",
      "    \"action_input\": \"4\"\n",
      "}\n",
      "```\u001b[0m\n",
      "\n",
      "\u001b[1m> Finished chain.\u001b[0m\n"
     ]
    },
    {
     "data": {
      "text/plain": [
       "{'input': '2+2 =?',\n",
       " 'chat_history': [HumanMessage(content='What is Saudi Arabia doing'),\n",
       "  AIMessage(content=\"Saudi Arabia is set to see a $100 billion investment over the next six years, with a focus on becoming a leader in the field of electronics and advanced industrials. The country's Public Investment Fund company Alat was recently launched, and partnerships with companies like Softbank Group, Carrier Corporation, Dahua Technology Ltd, and The Saudi Technology and Security Comprehensive Control Company (Tahakom) have been announced. The investments will go towards enhancing the technological sector in Saudi Arabia and promoting sustainability measures in manufacturing.\"),\n",
       "  HumanMessage(content='Give me news on date 13 March 2024 (https://www.cnbc.com/2024/03/19/european-markets-live-updates-stocks-news-data-and-fed-meeting.html )'),\n",
       "  AIMessage(content='European markets were flat on 13th March 2024 as global investors looked ahead to the start of the U.S. Federal Reserve’s two-day policy meeting. The pan-European Stoxx 600 was down 0.01% in early afternoon deals, with sectors trading in mixed territory. Autos stocks rose 1%, while utilities were down 0.6%. U.S. stocks opened mixed ahead of the Fed’s meeting in Washington. Recent inflation reports could prompt the Fed to signal that interest rates will remain higher for longer than expected. Fed funds futures currently forecast a 99% likelihood that the Fed will leave benchmark interest rates unchanged this week, according to the CME FedWatch Tool.'),\n",
       "  HumanMessage(content='Recommend me some news'),\n",
       "  AIMessage(content='NVIDIA Launches Cloud Quantum-Computer Simulation Microservices, Nvidia Joins Ongoing Race in Quantum-Computing Cloud Services, Beyond AI: How Nvidia is helping scale quantum computing')],\n",
       " 'output': '4'}"
      ]
     },
     "execution_count": 22,
     "metadata": {},
     "output_type": "execute_result"
    }
   ],
   "source": [
    "agent('2+2 =?')"
   ]
  },
  {
   "cell_type": "markdown",
   "metadata": {},
   "source": [
    "OpenAI example"
   ]
  },
  {
   "cell_type": "code",
   "execution_count": null,
   "metadata": {},
   "outputs": [],
   "source": [
    "\n",
    "# import os\n",
    "# from openai import OpenAI\n",
    "\n",
    "# system_message = {\"role\": \"system\", \n",
    "#                   \"content\": \"\"\"You are a bot that will either provide news recommendations, news summaries or answer questions related to the news asked by users.\n",
    "#     You are speaking to a professional so keep the answer informative and concise.\n",
    "\n",
    "#     You are given an article(s) to summarize. Please respond with the following using information given.\n",
    "#     Title: <Title Name>\n",
    "#     Website Link: <Link of Website>\n",
    "#     Date of Article: <Get the latest date of publication>\n",
    "#     Names to note: <Names of Company and people mentioned within the article>\n",
    "#     Key Topic: <Key topic of this article>\n",
    "#     Sentiment: <conduct sentiment analysis and let them know the sentiment>\n",
    "#     Trends & Statistics: <Include any trends and statistics found, make it short and do not repeat it in summary>\n",
    "#     Summary: <The summarised version of the article>\n",
    "\n",
    "#         Assistant:\"\"\"}\n",
    "\n",
    "# conversation = []\n",
    "# conversation.append(system_message)\n",
    "\n",
    "# client = OpenAI(\n",
    "#     # defaults to os.environ.get(\"OPENAI_API_KEY\")\n",
    "#     api_key=os.getenv(\"OPENAI_API_KEY\"),\n",
    "# )\n",
    "\n",
    "# def user_query(query):\n",
    "#     #add user query to conversation for gpt's response \n",
    "#     conversation.append({\"role\": \"user\", \"content\": query})\n",
    "#     response = client.chat.completions.create(\n",
    "#         model=\"gpt-3.5-turbo-1106\",\n",
    "#         messages= conversation\n",
    "#         # temperature=0.7,\n",
    "#     )\n",
    "#     #add bot reply to conversation\n",
    "#     conversation.append({\"role\": \"assistant\", \"content\": response.choices[0].message.content})\n",
    "#     return response.choices[0].message.content.strip()\n",
    "\n",
    "# from newsMongo import urlScrapeAndStore\n",
    "# #link test\n",
    "# url = ['<https://www.cnbc.com/2023/04/30/cloud-providers-amazon-microsoft-and-google-face-spending-cuts.html>']\n",
    "# output = ''\n",
    "# articles = []\n",
    "# for x in url:\n",
    "#     article = urlScrapeAndStore(x)\n",
    "#     articles.append(article)\n",
    "#     output = user_query(str(articles))\n",
    "#     print(\"Here is output \\n\")\n",
    "#     print(output)\n",
    "#     print(\"\\n\")\n",
    "\n",
    "# # response = user_query(\"\"\"Summarise this Coral Bay Nickel Corporation donated uniforms and medical kits to Palawan’s barangay health workers on Monday, an initiative enhancing local healthcare support.\n",
    "\n",
    "# # The Provincial Information Office said Vice Governor Leoncio Ola and Board Member Marivic Roxas, chairperson of the Committee on Health and Social Services of the Sangguniang Panlalawigan, received the donations.\n",
    "\n",
    "# # Ernesto Llacuna, community relations manager of CBNC, facilitated the distribution of approximately 2,000 barangya health workers (BHW) uniforms, 150 BP monitors, and 150 thermometers to health workers in the southern region of the province.\n",
    "\n",
    "# # Attendees included Board Members Juan Antonio Alvarez and Luzviminda Bautista, Dr. Justyn Barbosa, Medical Specialist IV, representing Provincial Health Officer Dr. Faye Erika Q. Labrador, and CVHW Manager Jenevil V. Tombaga.\n",
    "# #                       \"\"\")\n",
    "# # print(response)\n",
    "\n",
    "# # print(\"Here is the conversation with template but with user and chatbot history \\\\n\")\n",
    "# # print(conversation)\n",
    "\n",
    "# #can delete/edit role: system basically the template by del conversation[0] or conversation[0]['content'] = new template\n",
    "# # del conversation[0]\n",
    "# conversation[0]['content'] = \"\"\"new template\"\"\"\n",
    "\n",
    "# # print(\"Here is the conversation without template but with user and chatbot history \\n\")\n",
    "# # print(conversation)"
   ]
  }
 ],
 "metadata": {
  "kernelspec": {
   "display_name": "Python 3",
   "language": "python",
   "name": "python3"
  },
  "language_info": {
   "codemirror_mode": {
    "name": "ipython",
    "version": 3
   },
   "file_extension": ".py",
   "mimetype": "text/x-python",
   "name": "python",
   "nbconvert_exporter": "python",
   "pygments_lexer": "ipython3",
   "version": "3.10.5"
  }
 },
 "nbformat": 4,
 "nbformat_minor": 2
}
